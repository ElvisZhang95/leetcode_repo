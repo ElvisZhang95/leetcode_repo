{
 "cells": [
  {
   "cell_type": "markdown",
   "metadata": {},
   "source": [
    "# Searching Algorithm\n",
    "\n",
    "---\n",
    "\n"
   ]
  },
  {
   "cell_type": "markdown",
   "metadata": {},
   "source": [
    "## 1. Simple Binary Search\n",
    "\n",
    "**Time Complexity**: $O(logn)$\n",
    "\n",
    "**Problem**:\n",
    "\n",
    "* Need array like data structure i.e. $O(1)$ to indexing the number in it\n",
    "* need ordered data to search\n",
    "* amount of data should not be too small (similar to search for all) or too large (take up too much memory)\n"
   ]
  },
  {
   "cell_type": "code",
   "execution_count": 2,
   "metadata": {},
   "outputs": [],
   "source": [
    "def binary_search(nums, value):\n",
    "    '''nums should be a ordered lists'''\n",
    "    l = 0\n",
    "    h = len(nums)-1\n",
    "   \n",
    "    while l <= h:\n",
    "        m = (l+h) // 2\n",
    "        if nums[m] == value:\n",
    "            return m\n",
    "        elif nums[m] > value:\n",
    "            h = m-1\n",
    "        else:\n",
    "            l = m+1\n",
    "    return -1"
   ]
  },
  {
   "cell_type": "code",
   "execution_count": null,
   "metadata": {},
   "outputs": [],
   "source": [
    "'''Recursive version'''\n",
    "def bsearch(nums,value):\n",
    "    return bsearch_internal(nums,0,len(nums)-1,value)\n",
    "\n",
    "def bsearch_internal(nums,l,r,value):\n",
    "    if l > r:\n",
    "        return -1\n",
    "    m = (l+r) // 2\n",
    "    if nums[m] == value:\n",
    "        return m\n",
    "    elif nums[m] > value:\n",
    "        return bsearch_internal(nums,l,m-1,value)\n",
    "    else nums[m] < value:\n",
    "        return bsearch_internal(nums,m+1,r,value)"
   ]
  },
  {
   "cell_type": "markdown",
   "metadata": {},
   "source": [
    "## 2. Extended Binary Search\n",
    "\n",
    "![Extended Binary Search](img/special_binary_search.png)"
   ]
  },
  {
   "cell_type": "markdown",
   "metadata": {},
   "source": [
    "### (1) search for the first element equals the given number"
   ]
  },
  {
   "cell_type": "code",
   "execution_count": null,
   "metadata": {},
   "outputs": [],
   "source": [
    "def binary_search(nums, value):\n",
    "    '''nums should be a ordered lists'''\n",
    "    l = 0\n",
    "    h = len(nums)-1\n",
    "    while l <= h:\n",
    "        m = (l+g) // 2\n",
    "        if nums[m] >= value:\n",
    "            h = m-1\n",
    "        else:\n",
    "            l = m+1\n",
    "    if l<n and nums[l]==value:\n",
    "        return l\n",
    "    else:\n",
    "        return -1"
   ]
  },
  {
   "cell_type": "markdown",
   "metadata": {},
   "source": [
    "### (2) search for the last element equals to the given number"
   ]
  },
  {
   "cell_type": "code",
   "execution_count": 4,
   "metadata": {},
   "outputs": [],
   "source": [
    "def binary_search(nums, value):\n",
    "    '''nums should be a ordered lists'''\n",
    "    l = 0\n",
    "    h = len(nums)-1\n",
    "    while l <= h:\n",
    "        m = (l+g) // 2\n",
    "        if nums[m] > value:\n",
    "            h = m-1\n",
    "        else:\n",
    "            l = m+1\n",
    "    if h<n and nums[h]==value:\n",
    "        return l\n",
    "    else:\n",
    "        return -1"
   ]
  },
  {
   "cell_type": "markdown",
   "metadata": {},
   "source": [
    "### (3) search for the first element larger or equal to the given number"
   ]
  },
  {
   "cell_type": "code",
   "execution_count": 10,
   "metadata": {},
   "outputs": [],
   "source": [
    "def binary_search(nums, value):\n",
    "    '''nums should be a ordered lists'''\n",
    "    l = 0\n",
    "    h = len(nums)-1\n",
    "    while l <= h:\n",
    "        m = (l+g) // 2\n",
    "        if nums[m] >= value:\n",
    "            if (m==0) | (nums[m-1]<value):\n",
    "                return m\n",
    "            else:\n",
    "                h = m-1\n",
    "        else:\n",
    "            l = m+1\n",
    "    return -1"
   ]
  },
  {
   "cell_type": "markdown",
   "metadata": {},
   "source": [
    "### (4) search for the last element smaller or equal to the given number"
   ]
  },
  {
   "cell_type": "code",
   "execution_count": 9,
   "metadata": {},
   "outputs": [],
   "source": [
    "def binary_search(nums, value):\n",
    "    '''nums should be a ordered lists'''\n",
    "    l = 0\n",
    "    h = len(nums)-1\n",
    "    while l <= h:\n",
    "        m = (l+g) // 2\n",
    "        if nums[m] > value:\n",
    "            h = m-1\n",
    "        else:\n",
    "            if (m == n-1) | (nums[m+1] > value):\n",
    "                return m\n",
    "            else:\n",
    "                l = m+1\n",
    "    return -1"
   ]
  }
 ],
 "metadata": {
  "kernelspec": {
   "display_name": "Python 3",
   "language": "python",
   "name": "python3"
  },
  "language_info": {
   "codemirror_mode": {
    "name": "ipython",
    "version": 3
   },
   "file_extension": ".py",
   "mimetype": "text/x-python",
   "name": "python",
   "nbconvert_exporter": "python",
   "pygments_lexer": "ipython3",
   "version": "3.7.3"
  }
 },
 "nbformat": 4,
 "nbformat_minor": 2
}
