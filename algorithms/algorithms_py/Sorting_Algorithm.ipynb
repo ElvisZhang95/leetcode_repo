{
 "cells": [
  {
   "cell_type": "markdown",
   "metadata": {},
   "source": [
    "# Sorting Algorithm\n",
    "\n",
    "---\n"
   ]
  },
  {
   "cell_type": "markdown",
   "metadata": {},
   "source": [
    "![Bubble, Insert and Selection](img/compare3sorts.png)"
   ]
  },
  {
   "cell_type": "markdown",
   "metadata": {},
   "source": [
    "### 1. Buble sort\n",
    "* **Space Complexity**: $O(1)$ -> *no extra memeory need*\n",
    "\n",
    "* **Time Complexity**: $O(n^2)$\n",
    "    - Best: $O(n)$\n",
    "    - Worst: $O(n^2)$\n",
    "    \n",
    "* **Stable Algorithm**: *Only change when strictly large*\n"
   ]
  },
  {
   "cell_type": "code",
   "execution_count": 35,
   "metadata": {},
   "outputs": [],
   "source": [
    "'''bubble sort'''\n",
    "def bubble_sort(nums):\n",
    "    N = len(nums)\n",
    "    for i in range(N):\n",
    "        j = N-2\n",
    "        while j >= i:\n",
    "            if nums[j] > nums[j+1]:\n",
    "                tmp = nums[j]\n",
    "                nums[j] = nums[j+1]\n",
    "                nums[j+1] = tmp\n",
    "            j -= 1\n",
    "    return nums"
   ]
  },
  {
   "cell_type": "code",
   "execution_count": 36,
   "metadata": {},
   "outputs": [
    {
     "data": {
      "text/plain": [
       "[1, 2, 2, 3, 4, 4, 5, 6, 6, 8, 9, 11, 15]"
      ]
     },
     "execution_count": 36,
     "metadata": {},
     "output_type": "execute_result"
    }
   ],
   "source": [
    "nums = [6, 8, 1, 4, 3, 9, 5, 4, 11, 2, 2, 15, 6]\n",
    "bubble_sort(nums)"
   ]
  },
  {
   "cell_type": "markdown",
   "metadata": {},
   "source": [
    "### 2. Insert sort \n",
    "* **Space Complexity**: $O(1)$ -> *no extra memeory need*\n",
    "\n",
    "* **Time Complexity**: $O(n^2)$\n",
    "    - Best: $O(n)$\n",
    "    - Worst: $O(n^2)$\n",
    "    \n",
    "* **Stable Algorithm**: *Insert to the right*"
   ]
  },
  {
   "cell_type": "code",
   "execution_count": 47,
   "metadata": {},
   "outputs": [],
   "source": [
    "'''insert sort'''\n",
    "def insert_sort(nums):\n",
    "    N = len(nums)\n",
    "    for i in range(1,N):\n",
    "        j = i-1\n",
    "        if nums[j] > nums[i]:\n",
    "            tmp = nums[i]\n",
    "            nums[i] = nums[j]\n",
    "            j -= 1\n",
    "            while j >= 0 and nums[j] > tmp:\n",
    "                nums[j+1] = nums[j]\n",
    "                j -= 1\n",
    "            nums[j+1] = tmp\n",
    "    return nums"
   ]
  },
  {
   "cell_type": "code",
   "execution_count": 48,
   "metadata": {},
   "outputs": [
    {
     "data": {
      "text/plain": [
       "[1, 2, 2, 3, 4, 4, 5, 6, 6, 8, 9, 11, 15]"
      ]
     },
     "execution_count": 48,
     "metadata": {},
     "output_type": "execute_result"
    }
   ],
   "source": [
    "nums = [6, 8, 1, 4, 3, 9, 5, 4, 11, 2, 2, 15, 6]\n",
    "insert_sort(nums)"
   ]
  },
  {
   "cell_type": "markdown",
   "metadata": {},
   "source": [
    "### 3. Selection sort\n",
    "* **Space Complexity**: $O(1)$ -> *no extra memeory need*\n",
    "\n",
    "* **Time Complexity**: $O(n^2)$\n",
    "    - Best: $O(n^2)$\n",
    "    - Worst: $O(n^2)$\n",
    "    \n",
    "* **Unstable Algorithm**: *find the minimum and switch will make it unstable*"
   ]
  },
  {
   "cell_type": "code",
   "execution_count": 53,
   "metadata": {},
   "outputs": [],
   "source": [
    "'''Selection sort'''\n",
    "def selection_sort(nums):\n",
    "    N = len(nums)\n",
    "    for i in range(N):\n",
    "        min_idx = i\n",
    "        for j in range(i,N):\n",
    "            if nums[j] < nums[min_idx]:\n",
    "                min_idx = j\n",
    "        nums[i],nums[min_idx] = nums[min_idx],nums[i]\n",
    "    return nums"
   ]
  },
  {
   "cell_type": "code",
   "execution_count": 54,
   "metadata": {},
   "outputs": [
    {
     "data": {
      "text/plain": [
       "[1, 2, 2, 3, 4, 4, 5, 6, 6, 8, 9, 11, 15]"
      ]
     },
     "execution_count": 54,
     "metadata": {},
     "output_type": "execute_result"
    }
   ],
   "source": [
    "nums = [6, 8, 1, 4, 3, 9, 5, 4, 11, 2, 2, 15, 6]\n",
    "selection_sort(nums)"
   ]
  },
  {
   "cell_type": "markdown",
   "metadata": {},
   "source": [
    "### 4. Merge sort\n",
    "\n",
    "* **Space Complexity**: $O(n)$\n",
    "\n",
    "* **Time Complexity**: $O(nlogn)$\n",
    "    - Best: $O(nlogn)$\n",
    "    - Worst: $O(nlogn)$\n",
    "    \n",
    "<u>*refer the hand writing notes*</u>\n",
    "    \n",
    "* **stable Algorithm**: *depends on the merge function*"
   ]
  },
  {
   "cell_type": "code",
   "execution_count": 82,
   "metadata": {},
   "outputs": [],
   "source": [
    "'''Merge function'''\n",
    "def merge(left,right):\n",
    "    res = []\n",
    "    while left and right:\n",
    "        if left[0] <= right[0]:\n",
    "            res.append(left.pop(0))\n",
    "        else:\n",
    "            res.append(right.pop(0))\n",
    "    res = res + left + right\n",
    "    return res\n",
    "'''Merge sort'''\n",
    "def merge_sort(nums):\n",
    "    if len(nums) <= 1:\n",
    "        return nums\n",
    "    m = len(nums) // 2\n",
    "    left = merge_sort(nums[:m])\n",
    "    right = merge_sort(nums[m:])\n",
    "    return merge(left,right)"
   ]
  },
  {
   "cell_type": "code",
   "execution_count": 83,
   "metadata": {},
   "outputs": [
    {
     "data": {
      "text/plain": [
       "[1, 2, 2, 3, 4, 4, 5, 6, 6, 8, 9, 11, 15]"
      ]
     },
     "execution_count": 83,
     "metadata": {},
     "output_type": "execute_result"
    }
   ],
   "source": [
    "nums = [6, 8, 1, 4, 3, 9, 5, 4, 11, 2, 2, 15, 6]\n",
    "merge_sort(nums)"
   ]
  },
  {
   "cell_type": "markdown",
   "metadata": {},
   "source": [
    "### 5. Quick Sort\n",
    "\n",
    "* **Space Complexity**: $O(1)$, *use less memory compared to merge sort*\n",
    "\n",
    "* **Time Complexity**: $O(nlogn)$\n",
    "    - Best: $O(nlogn)$ *the key we chosen could partition the array averagely*\n",
    "    - Worst: $O(n^2)$ *the key we chosen is extremely imbalance*\n",
    "    \n",
    "* **Unstable Algorithm**: *due to switch number during partition*"
   ]
  },
  {
   "cell_type": "code",
   "execution_count": 84,
   "metadata": {},
   "outputs": [],
   "source": [
    "'''partition function'''\n",
    "def partition(nums,l,r):\n",
    "    low = l\n",
    "    high = r\n",
    "    key = nums[l]\n",
    "    while low < high:\n",
    "        while low<high and nums[high]>=key:\n",
    "            high -= 1\n",
    "        nums[low]=nums[high]\n",
    "        while low<high and nums[low]<=key:\n",
    "            low += 1\n",
    "        nums[high]=nums[low]\n",
    "        nums[low] = key\n",
    "    return low\n",
    "'''quick sort'''\n",
    "def quick_sort(nums,l,r):\n",
    "    if l >= r:\n",
    "        return \n",
    "    k = (l+r) // 2\n",
    "    p = partition(nums,l,r)\n",
    "    quick_sort(nums,l,p)\n",
    "    quick_sort(nums,p+1,r)"
   ]
  },
  {
   "cell_type": "code",
   "execution_count": 89,
   "metadata": {},
   "outputs": [
    {
     "data": {
      "text/plain": [
       "[1, 2, 2, 3, 4, 4, 5, 6, 6, 8, 9, 11, 15]"
      ]
     },
     "execution_count": 89,
     "metadata": {},
     "output_type": "execute_result"
    }
   ],
   "source": [
    "nums = [6, 8, 1, 4, 3, 9, 5, 4, 11, 2, 2, 15, 6]\n",
    "quick_sort(nums,0,len(nums)-1)\n",
    "nums"
   ]
  },
  {
   "cell_type": "code",
   "execution_count": 87,
   "metadata": {},
   "outputs": [],
   "source": [
    "'''one function version'''\n",
    "def quicksort(nums,l,r):\n",
    "    if l >= r:\n",
    "        return\n",
    "    low = l\n",
    "    high = r\n",
    "    key = nums[low]\n",
    "    while low < high:\n",
    "        while low<high and nums[high]>=key:\n",
    "            high -= 1\n",
    "        nums[low] = nums[high]\n",
    "        while low<high and nums[low]<=key:\n",
    "            low += 1\n",
    "        nums[high] = nums[low]\n",
    "        nums[low] = key\n",
    "    quicksort(nums,l,low)\n",
    "    quicksort(nums,low+1,r)"
   ]
  },
  {
   "cell_type": "code",
   "execution_count": 88,
   "metadata": {},
   "outputs": [
    {
     "data": {
      "text/plain": [
       "[1, 2, 2, 3, 4, 4, 5, 6, 6, 8, 9, 11, 15]"
      ]
     },
     "execution_count": 88,
     "metadata": {},
     "output_type": "execute_result"
    }
   ],
   "source": [
    "nums = [6, 8, 1, 4, 3, 9, 5, 4, 11, 2, 2, 15, 6]\n",
    "quicksort(nums,0,len(nums)-1)\n",
    "nums"
   ]
  },
  {
   "cell_type": "markdown",
   "metadata": {},
   "source": [
    "#### improve quick sort - choose partition point:\n",
    "\n",
    "* choose the median in three numbers (left, right and middle)\n",
    "* randomly choose\n"
   ]
  },
  {
   "cell_type": "markdown",
   "metadata": {},
   "source": [
    "### 6. Linear Sorting Algorithm\n",
    "\n",
    "<u>Notes: no comparison between elements and have requirement on the data to sort</u> \n",
    "\n",
    "<u>(1) Bucket sorting</u>\n",
    "\n",
    "![Bucket Sort](img/Bucket_sorting.png)\n",
    "\n",
    "Suppose we ditribute n data to m buckets, each have $k = \\frac{n}{m}$ elements. If we use $O(nlogn)$ sorting algorithm to sort each bucket then the time complexity will be: \n",
    "\n",
    "$O(mklogk) = O(nlog(\\frac{n}{m}))$, which is very close to $O(n)$ when n is close to m\n",
    "\n",
    "> suitable for sorting in the external memory: dividing the large data into diferent files (buckets), load each file to the memory in turn and sort.\n",
    "\n",
    "**Problems for bucket sort: **\n",
    "\n",
    "![Problems for bucket sort](img/shortcome_bucket_sorting.png)"
   ]
  },
  {
   "cell_type": "markdown",
   "metadata": {},
   "source": [
    "(2) Counting sort: \n",
    "\n",
    "let N be the maximum number in the array, then we divide the array into N buckets, we will get a array, say $C$ store the number of elements equal to the index of C\n",
    "\n",
    "<u>only suitable for the data with range not too large and the algorithm only restricted to the non negative integers\n",
    "\n",
    "[极客](https://time.geekbang.org/column/article/42038)\n",
    "\n",
    "(3) Radix sort:\n",
    "\n",
    "**Must use stable sorting algorithm for each digit**\n",
    "\n",
    "*e.g. phone number sorting*\n",
    "\n",
    "[极客](https://time.geekbang.org/column/article/42038)"
   ]
  },
  {
   "cell_type": "markdown",
   "metadata": {},
   "source": [
    "![All sorting algorithm](img/all_sorting_algorithm.png)"
   ]
  }
 ],
 "metadata": {
  "kernelspec": {
   "display_name": "Python 3",
   "language": "python",
   "name": "python3"
  },
  "language_info": {
   "codemirror_mode": {
    "name": "ipython",
    "version": 3
   },
   "file_extension": ".py",
   "mimetype": "text/x-python",
   "name": "python",
   "nbconvert_exporter": "python",
   "pygments_lexer": "ipython3",
   "version": "3.7.3"
  }
 },
 "nbformat": 4,
 "nbformat_minor": 2
}
